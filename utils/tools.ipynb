{
 "cells": [
  {
   "cell_type": "code",
   "execution_count": 1,
   "id": "a9fa33c7",
   "metadata": {},
   "outputs": [
    {
     "name": "stdout",
     "output_type": "stream",
     "text": [
      "文件重新编号完成，共处理了 870 个序列\n"
     ]
    }
   ],
   "source": [
    "# 读取原文件并重新编号\n",
    "with open('/Users/apple/AIBD/Gram-_Database/data/Gram+.fasta', 'r') as input_file:\n",
    "    with open('/Users/apple/AIBD/Gram-_Database/data/Gram+_renumbered.fasta', 'w') as output_file:\n",
    "        sequence_number = 1\n",
    "        \n",
    "        for line in input_file:\n",
    "            if line.startswith('>'):\n",
    "                # 重新编号序列标识符\n",
    "                output_file.write(f'>{sequence_number}\\n')\n",
    "                sequence_number += 1\n",
    "            else:\n",
    "                # 保持序列内容不变\n",
    "                output_file.write(line)\n",
    "\n",
    "print(f\"文件重新编号完成，共处理了 {sequence_number - 1} 个序列\")"
   ]
  },
  {
   "cell_type": "code",
   "execution_count": 1,
   "id": "9e2f7616",
   "metadata": {},
   "outputs": [
    {
     "name": "stdout",
     "output_type": "stream",
     "text": [
      "转换完成！已生成文件：/Users/apple/AIBD/Gram-_Database/data/Gram-_formatted.txt\n"
     ]
    }
   ],
   "source": [
    "def convert_fasta_to_single_line():\n",
    "    input_file = \"/Users/apple/AIBD/Gram-_Database/data/Gram-.fasta\"\n",
    "    output_file = \"/Users/apple/AIBD/Gram-_Database/data/Gram-_formatted.txt\"\n",
    "    \n",
    "    with open(input_file, 'r') as f:\n",
    "        lines = f.readlines()\n",
    "    \n",
    "    formatted_sequences = []\n",
    "    current_seq = \"\"\n",
    "    current_id = \"\"\n",
    "    \n",
    "    for line in lines:\n",
    "        line = line.strip()\n",
    "        if line.startswith('>'):\n",
    "            # 如果有前一个序列，先保存它\n",
    "            if current_id and current_seq:\n",
    "                formatted_sequences.append(f\">seq{current_id}{current_seq}\")\n",
    "            # 开始新序列\n",
    "            current_id = line[1:]  # 去掉 '>' 符号\n",
    "            current_seq = \"\"\n",
    "        else:\n",
    "            # 累积序列数据\n",
    "            current_seq += line\n",
    "    \n",
    "    # 处理最后一个序列\n",
    "    if current_id and current_seq:\n",
    "        formatted_sequences.append(f\">seq{current_id}{current_seq}\")\n",
    "    \n",
    "    # 写入新文件\n",
    "    with open(output_file, 'w') as f:\n",
    "        f.write(':'.join(formatted_sequences))\n",
    "    \n",
    "    print(f\"转换完成！已生成文件：{output_file}\")\n",
    "\n",
    "# 运行转换\n",
    "convert_fasta_to_single_line()"
   ]
  }
 ],
 "metadata": {
  "kernelspec": {
   "display_name": "drug",
   "language": "python",
   "name": "python3"
  },
  "language_info": {
   "codemirror_mode": {
    "name": "ipython",
    "version": 3
   },
   "file_extension": ".py",
   "mimetype": "text/x-python",
   "name": "python",
   "nbconvert_exporter": "python",
   "pygments_lexer": "ipython3",
   "version": "3.9.21"
  }
 },
 "nbformat": 4,
 "nbformat_minor": 5
}
