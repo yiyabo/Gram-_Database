{
 "cells": [
  {
   "cell_type": "code",
   "execution_count": 1,
   "id": "a9fa33c7",
   "metadata": {},
   "outputs": [
    {
     "name": "stdout",
     "output_type": "stream",
     "text": [
      "文件重新编号完成，共处理了 870 个序列\n"
     ]
    }
   ],
   "source": [
    "# 读取原文件并重新编号\n",
    "with open('/Users/apple/AIBD/Gram-_Database/data/Gram+.fasta', 'r') as input_file:\n",
    "    with open('/Users/apple/AIBD/Gram-_Database/data/Gram+_renumbered.fasta', 'w') as output_file:\n",
    "        sequence_number = 1\n",
    "        \n",
    "        for line in input_file:\n",
    "            if line.startswith('>'):\n",
    "                # 重新编号序列标识符\n",
    "                output_file.write(f'>{sequence_number}\\n')\n",
    "                sequence_number += 1\n",
    "            else:\n",
    "                # 保持序列内容不变\n",
    "                output_file.write(line)\n",
    "\n",
    "print(f\"文件重新编号完成，共处理了 {sequence_number - 1} 个序列\")"
   ]
  }
 ],
 "metadata": {
  "kernelspec": {
   "display_name": "drug",
   "language": "python",
   "name": "python3"
  },
  "language_info": {
   "codemirror_mode": {
    "name": "ipython",
    "version": 3
   },
   "file_extension": ".py",
   "mimetype": "text/x-python",
   "name": "python",
   "nbconvert_exporter": "python",
   "pygments_lexer": "ipython3",
   "version": "3.9.21"
  }
 },
 "nbformat": 4,
 "nbformat_minor": 5
}
